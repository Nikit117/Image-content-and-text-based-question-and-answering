{
 "cells": [
  {
   "cell_type": "code",
   "execution_count": 1,
   "metadata": {},
   "outputs": [
    {
     "name": "stderr",
     "output_type": "stream",
     "text": [
      "c:\\Users\\nikit\\AppData\\Local\\Programs\\Python\\Python310\\lib\\site-packages\\tqdm\\auto.py:22: TqdmWarning: IProgress not found. Please update jupyter and ipywidgets. See https://ipywidgets.readthedocs.io/en/stable/user_install.html\n",
      "  from .autonotebook import tqdm as notebook_tqdm\n"
     ]
    }
   ],
   "source": [
    "from transformers import AutoModelForQuestionAnswering,AutoTokenizer,pipeline\n"
   ]
  },
  {
   "cell_type": "code",
   "execution_count": 2,
   "metadata": {},
   "outputs": [
    {
     "name": "stderr",
     "output_type": "stream",
     "text": [
      "Downloading: 100%|██████████| 571/571 [00:00<00:00, 191kB/s]\n",
      "c:\\Users\\nikit\\AppData\\Local\\Programs\\Python\\Python310\\lib\\site-packages\\huggingface_hub\\file_download.py:127: UserWarning: `huggingface_hub` cache-system uses symlinks by default to efficiently store duplicated files but your machine does not support them in C:\\Users\\nikit\\.cache\\huggingface\\hub. Caching files will still work but in a degraded version that might require more space on your disk. This warning can be disabled by setting the `HF_HUB_DISABLE_SYMLINKS_WARNING` environment variable. For more details, see https://huggingface.co/docs/huggingface_hub/how-to-cache#limitations.\n",
      "To support symlinks on Windows, you either need to activate Developer Mode or to run Python as an administrator. In order to see activate developer mode, see this article: https://docs.microsoft.com/en-us/windows/apps/get-started/enable-your-device-for-development\n",
      "  warnings.warn(message)\n",
      "Downloading: 100%|██████████| 496M/496M [08:42<00:00, 950kB/s]    \n",
      "Downloading: 100%|██████████| 79.0/79.0 [00:00<?, ?B/s]\n",
      "Downloading: 100%|██████████| 899k/899k [00:01<00:00, 462kB/s]  \n",
      "Downloading: 100%|██████████| 456k/456k [00:01<00:00, 365kB/s]  \n",
      "Downloading: 100%|██████████| 772/772 [00:00<00:00, 386kB/s]\n"
     ]
    }
   ],
   "source": [
    "nlp = pipeline('question-answering', model='deepset/roberta-base-squad2', tokenizer='deepset/roberta-base-squad2')"
   ]
  },
  {
   "cell_type": "code",
   "execution_count": 7,
   "metadata": {},
   "outputs": [
    {
     "name": "stdout",
     "output_type": "stream",
     "text": [
      "Collecting bs4\n",
      "  Using cached bs4-0.0.1.tar.gz (1.1 kB)\n",
      "Collecting beautifulsoup4\n",
      "  Downloading beautifulsoup4-4.11.1-py3-none-any.whl (128 kB)\n",
      "Collecting soupsieve>1.2\n",
      "  Downloading soupsieve-2.3.2.post1-py3-none-any.whl (37 kB)\n",
      "Building wheels for collected packages: bs4\n",
      "  Building wheel for bs4 (setup.py): started\n",
      "  Building wheel for bs4 (setup.py): finished with status 'done'\n",
      "  Created wheel for bs4: filename=bs4-0.0.1-py3-none-any.whl size=1281 sha256=0242126d2d0f4b2cfd5223ce3a260929e21c3035e705ccc01000b29e9f9c05e4\n",
      "  Stored in directory: c:\\users\\nikit\\appdata\\local\\pip\\cache\\wheels\\25\\42\\45\\b773edc52acb16cd2db4cf1a0b47117e2f69bb4eb300ed0e70\n",
      "Successfully built bs4\n",
      "Installing collected packages: soupsieve, beautifulsoup4, bs4\n",
      "Successfully installed beautifulsoup4-4.11.1 bs4-0.0.1 soupsieve-2.3.2.post1\n"
     ]
    },
    {
     "name": "stderr",
     "output_type": "stream",
     "text": [
      "WARNING: You are using pip version 21.2.3; however, version 22.3.1 is available.\n",
      "You should consider upgrading via the 'C:\\Users\\nikit\\AppData\\Local\\Programs\\Python\\Python310\\python.exe -m pip install --upgrade pip' command.\n"
     ]
    }
   ],
   "source": [
    "!pip install bs4"
   ]
  },
  {
   "cell_type": "code",
   "execution_count": 13,
   "metadata": {},
   "outputs": [],
   "source": [
    "import requests\n",
    "from bs4 import BeautifulSoup\n",
    "\n",
    "url = 'https://www.flipkart.com/acer-nitro-5-ryzen-hexa-core-amd-r5-5600h-8-gb-512-gb-ssd-windows-11-home-4-graphics-nvidia-geforce-gtx-1650-an515-45-an515-45-r2m1-gaming-laptop/p/itm3303860d3ec69?pid=COMGEZZT4YJJ9JZM&lid=LSTCOMGEZZT4YJJ9JZMS13OVM&marketplace=FLIPKART&q=gaming+laptop&store=4rr%2Ftz1&srno=s_1_1&otracker=search&otracker1=search&fm=organic&iid=c1cc539b-3e7d-47af-ac9c-6068cc80de36.COMGEZZT4YJJ9JZM.SEARCH&ppt=None&ppn=None&ssid=virvunyxdc0000001670133563718&qH=da5ee6f53d84b3c2'\n",
    "res = requests.get(url)\n",
    "html_page = res.content\n",
    "soup = BeautifulSoup(html_page, 'html.parser')\n",
    "text = soup.find_all(text=True)"
   ]
  },
  {
   "cell_type": "code",
   "execution_count": 14,
   "metadata": {},
   "outputs": [],
   "source": [
    "output = ''\n",
    "blacklist = [\n",
    "    # '[document]',\n",
    "    # 'noscript',\n",
    "    # 'header',\n",
    "    # 'html',\n",
    "    # 'meta',\n",
    "    # 'head', \n",
    "    # 'input',\n",
    "    'script',\n",
    "    \"style\"\n",
    "]"
   ]
  },
  {
   "cell_type": "code",
   "execution_count": 15,
   "metadata": {},
   "outputs": [
    {
     "name": "stdout",
     "output_type": "stream",
     "text": [
      "html acer Nitro 5 Ryzen 5 Hexa Core AMD R5-5600H - (8 GB/512 GB SSD/Windows 11 Home/4 GB Graphics/NVIDIA GeForce GTX 1650) AN515-45/ AN515-45-R2M1 Gaming Laptop Rs.79999  Price in India - Buy acer Nitro 5 Ryzen 5 Hexa Core AMD R5-5600H - (8 GB/512 GB SSD/Windows 11 Home/4 GB Graphics/NVIDIA GeForce GTX 1650) AN515-45/ AN515-45-R2M1 Gaming Laptop Shale Black Online - acer : Flipkart.com             [if IE 9 ]>\n",
      "\t<script nonce=\"5139515335432700503\">\n",
      "\t\twindow.browserVersion = 'IE9';\n",
      "\t\tdocument.documentElement.className += ' ie9';\n",
      "\t</script>\n",
      "\t<![endif] [if !IE]><! <![endif]     Explore     Plus Login Become a Seller     More     Cart     ADD TO CART     BUY NOW Home Computers Laptops acer Laptops acer Nitro 5 Ryzen 5 Hexa Core AMD R5-5600H - (8 GB/512 GB SSD/Windows 11 Home/4 GB Graphics/NVIDIA GeForce GTX 1650) AN515-45/ AN515-45-R2M1 Gaming Laptop (15.6 Inch, Shale Black, 2.2 KG) \n",
      " Compare Share acer Nitro 5 Ryzen 5 Hexa Core AMD R5-5600H - (8 GB/512 GB SSD/Windows 11 Home/4 GB Graphics/NVIDIA GeForce GTX 1650) AN515-45/ AN515-45-R2M1 Gaming Laptop     (15.6 Inch, Shale Black, 2.2 KG) 4.4 220 Ratings  &  19 Reviews ₹63,999 ₹   89,999 28% off Hurry, Only 2 left! Available offers Bank Offer 5% Cashback on Flipkart Axis Bank Card T&C Partner Offer Get GST Invoice Available & Save up to 28% for Business purchases on Electronics Know More Partner Offer Buy this product and get upto ₹500 off on Flipkart Furniture Know More Partner Offer Sign up for Flipkart Pay Later and get Flipkart Gift Card worth up to ₹250* Know More View 1 more offer 1 Year International Travelers Warranty (ITW) Know More System Memory 8 GB 8 GB 16 GB 16 GB Please select a System Memory to proceed ✕ Delivery Check Enter pincode Usually delivered and Installed in 6 days ? Enter pincode for exact delivery dates/charges View Details Highlights NVIDIA GeForce GTX 1650 15.6 Inch Full HD IPS (In-Plane Switching) technology, Acer ComfyView LED-backlit TFT LCD, 16:9 aspect ratio, supporting 144 Hz refresh rate Light Laptop without Optical Disk Drive Easy Payment Options EMI starting from ₹2,188/month Cash on Delivery Net banking & Credit/ Debit/ ATM card View Details Seller HAPPYTOBUY 3.5 7 Days Replacement Policy ? See other sellers Description The Acer Nitro laptop is filled with a variety of excellent features and has a wonderful user interface. It is specifically made to wow you with its operation. You can enjoy top-notch gameplay sessions and stunning images thanks to the AMD Ryzen 5 5600 Hexa-core processor and NVIDIA GeForce GTX 1650 graphics card. Additionally, this laptop offers stutter-free gaming owing to its 39.62 cm (15.6) FHD IPS display and frame rate of 144 Hz. Moreover, this laptop provides the best cooling even when used for lengthy periods thanks to its dual fan design and four exhaust ports. Read More Product Description Unmatched Performance With the combined might of AMD Ryzen 5 5600 Hexa-core processor and the NVIDIA GeForce GTX 1650 graphics card of this laptop, you can effortlessly dominate the gaming world. Additionally, the pinnacle of video game graphics, ray tracing, simulates the actual behaviour of light to give even the most graphically demanding games real-time, cinematic-quality rendering. Moreover, leveraging the specialised AI processing Tensor Cores on GeForce RTX, NVIDIA DLSS, an AI rendering technology, increases frame rates without sacrificing picture quality. \n",
      " Dazzling Display This laptop allows for detailed game exploration thanks to its 39.62 cm (15.6) FHD IPS display. Moreover, with a 144 Hz frame rate and a 3 ms response time, you can easily enjoy fluid, blur-free games. \n",
      " Colour-enriched Visuals Prepare yourself to enjoy vivid colours with an sRGB 100%, 300 nits display thanks to an enhanced screen-to-body ratio of 80% and a thin 7.02 mm bezel, designed to elevate your visual experience. \n",
      " Incredible Cooling With its twin fan configuration and four exhaust ports, this laptop excels at providing optimum cooling even when used for extended periods. \n",
      " CoolBoost Technology This laptop's CoolBoost technology significantly enhances CPU/GPU cooling and fan speed, allowing you to continue working without sacrificing performance. \n",
      " Impeccable Data Handling Equip your laptop for optimal performance and enormous storage with two M.2 PCIe SSD ports, 16 GB of DDR4 RAM, extendable up to 32 GB, and other features that allow you to multitask with ease and transfer essential data quickly. \n",
      " RGB Keyboard The 4-zone RGB keyboard on this laptop provides a classy appearance. Additionally, the arrow and WASD keys are underlined for easy sight and efficient gameplay, allowing you to keep one step ahead of your competition. \n",
      " NitroSense Supremacy Utilize the dedicated NitroSense Key adapted in this laptop to control the laptop's internal components and monitor things like fan speed, thermal temperature, lighting, and more. \n",
      " Exceptional Connectivity Take control of your network and give your gaming the top priority with Killer Ethernet E2600 and Intel Wi-Fi 6 solutions to get an advantage online. \n",
      " Elevated Audio With DTS:X Ultra, the sound is crystal clear and can be provided in a three-dimensional spatial soundscape, enabling you to hear your opponents' exact whereabouts. \n",
      " View all features Specifications General Sales Package Laptop, Power Adaptor, User Guide, Warranty Documents Model Number AN515-45/ AN515-45-R2M1 Part Number NH.QBMSI.007 Model Name AN515-45 Series Nitro 5 Color Shale Black Type Gaming Laptop Suitable For Gaming Power Supply 135 W AC Adapter Battery Cell 4 cell MS Office Provided No Processor And Memory Features Dedicated Graphic Memory Type GDDR6 Dedicated Graphic Memory Capacity 4 GB Processor Brand AMD Processor Name Ryzen 5 Hexa Core SSD Yes SSD Capacity 512 GB RAM 8 GB RAM Type DDR4 Processor Variant AMD R5-5600H Clock Speed Base Clock 3.3 GHz, Max Turbo Boost Frequency Up to 4.20 GHz Expandable Memory Upto 32 GB Graphic Processor NVIDIA GeForce GTX 1650 Number of Cores 6 Operating System OS Architecture 64 bit Operating System Windows 11 Home Supported Operating System Windows 11 Home Port And Slot Features Mic In Yes RJ45 Yes USB Port 2 x USB 3.2 Gen 1 ports, 1 x USB Type-C port (USB 3.2 Gen 2), 1 x USB 3.2 Gen 2 port with power-off charging HDMI Port 1 x HDMI Port Display And Audio Features Touchscreen No Screen Size 39.62 cm (15.6 Inch) Screen Resolution 1920 x 1080 Pixel Screen Type Full HD IPS (In-Plane Switching) technology, Acer ComfyView LED-backlit TFT LCD, 16:9 aspect ratio, supporting 144 Hz refresh rate Speakers Built-in Dual Speakers Internal Mic Built-in Dual Microphone Sound Properties DTS X:Ultra Audio, featuring optimized Bass, Loudness, Speaker Protection with up to 6 custom content modes by smart amplifier | Supported in Windows Spatial Sound for PC Gaming with DTS license integrated | Immersive audio rendering over headphones and internal speakers | Acer Purified.Voice technology with dual built-in microphones. Features include far-field pickup, keystroke suppression, adaptive beam forming, and pre-defined personal and conference call modes. | Compatible with Cortana with Voice | Acer TrueHarmony technology for lower distortion, wider frequency range, headphone-like audio and powerful sound Connectivity Features Wireless LAN 802.11a/b/g/n/acR2+ax wireless LAN Bluetooth v5.1 Ethernet Killer Ethernet E2600 Dimensions Dimensions 363.4 x 255 x 23.9 mm Weight 2.2 KG Additional Features Disk Drive Not Available Web Camera 720p HD Webcam Finger Print Sensor No Keyboard 103-/104-/107-key FineTip RGB-backlit keyboard with independent standard numeric keypad Backlit Keyboard Yes Pointer Device Touchpad with Multi-touch Gesture Support Included Software Acer Care Center, Acer Product Registration, NitroSense, Quick Access Warranty Warranty Summary 1 Year International Travelers Warranty (ITW) Warranty Service Type Onsite Covered in Warranty Manufacturing Defects Not Covered in Warranty Physical Damage International Warranty 1 Year Read More Frequently Bought Together acer Nitro 5 Ryzen 5 Hexa Core AMD R5-5600H - (8 GB/512 GB SSD/Wi... 4.4 (220) ₹63,999 ₹   89,999 28% off Supreno LED ABS body illuminating gaming mouse Wired Laser  Gamin... 4.3 (3) ₹472 RAPOO 8000M/Keyboard & Mouse Combo (4 Device Connectivity), Flipk... 4.3 (49) ₹1,298 1 Item ₹   63,999 2     Add-on s ₹ 1,770 Total ₹ 65,769 Add 3 Items to Cart Ratings & Reviews Rate Product 4.4 ★ 220 Ratings & 19 Reviews 5 ★ 4 ★ 3 ★ 2 ★ 1 ★ 152 46 4 0 18 4.4 Performance 3.4 Battery 4.2 Design 4.0 Display +    10 5 Fabulous! i m Very happy 😌😁😍 very good product and high performance ❤️🤩🥰😱👍🏼💥. READ MORE Zotish War Certified Buyer , Vishakhapatnam 2months ago 3 0 Permalink Report Abuse 5 Terrific purchase Nice laptop value for money 😎😎😎 Performance is very good. I am playing gta 5 very smoothly. READ MORE Aadesh Yogi Certified Buyer , Ahmedabad 1month ago 2 0 Permalink Report Abuse 5 Must buy! Absolutely delighted READ MORE Ahmed Certified Buyer , Miryalaguda 2months ago 1 0 Permalink Report Abuse 5 Must buy! Superb display as expected Just need to include Microsoft 360 subscription in this price  overall everything is good  price is little high go for it 👌 READ MORE Jiban Roul Certified Buyer , Secunderabad 1month ago 1 0 Permalink Report Abuse 5 Awesome Best laptop in this price segment.. Battery and display could be better...but it's okay..I got this in 53k in offer. READ MORE Suman Kumar Certified Buyer , Samastipur 1month ago 1 0 Permalink Report Abuse 4 Really Nice Good performance.....🤩 RGB keyboard is wonderful.. READ MORE yogesh c s Certified Buyer , Kochi 2months ago 1 0 Permalink Report Abuse 4 Pretty good Laptop is good ,power button in keyboard but sound is low. Performance is good. READ MORE aniket yadav Certified Buyer , Ghazipur 2months ago 1 0 Permalink Report Abuse 5 Just wow! Best budget gaming laptop, only speaker sound is relatively low. READ MORE Flipkart Customer Certified Buyer , Konnagar 10days ago 0 0 Permalink Report Abuse 4 Value-for-money Best product in 58k but battery can be good READ MORE Sayan Chatterjee Certified Buyer , Bolpur 1month ago 0 0 Permalink Report Abuse 5 Brilliant I just bought it on 16th oct 2022 .. go for it i have searched lots of gaming laptop at this range but i found this the beast.. very good laptop for gaming. READ MORE Shrêyåsh Khéðkâr Certified Buyer , Yavatmal 1month ago 0 0 Permalink Report Abuse + All 19 reviews Questions and Answers Q: Has it fingerprint sensor? A: No Surendar Kumar Certified Buyer 0 0 Report Abuse Q: What to choose, this laptop or Asus TUF A15 ryzen 5 4600H. A: for sure this one its better than the asus tuf a15 Jiban Roul Certified Buyer 0 0 Report Abuse Q: Can we run VMware software in it? A: yes. Anonymous Certified Buyer 0 0 Report Abuse Q: Which ram can be installed in it A: sodin DDR4 ram Anonymous Certified Buyer 0 0 Report Abuse Q: Can we use Bluetooth headphones? A: yes, i use oneplus bullets Vijay Yelagandula Certified Buyer 0 0 Report Abuse Q: Does it have extra HDD or SDD slot? A: Yes sharique ahmad Certified Buyer 0 0 Report Abuse Read other answers Q: Is it 512gb ssd or 1tb hdd+256gb ssd because it is mention 512gb ssd only and no hdd is mentioned A: there is option to add one m.2 ssd and SATA HDD or SSD Bishwajit kumar Poddar Certified Buyer 0 0 Report Abuse Q: Is it useful for student and office work A: It is useful both Student and office work . Faisal  Ahmed  Certified Buyer 1 1 Report Abuse Q: Is 1TB HDD available? I dont see anywere mentioned. A: It is still available sir.. kindly check this 256GB SSD+1 TB HDD hybrid storage model Nandha Kumar Certified Buyer 0 0 Report Abuse Q: Is it good for btech computer science A: yes Anonymous Certified Buyer 0 0 Report Abuse All questions + Safe and Secure Payments.   Easy returns.   100% Authentic products. You might be interested in Webcams Min. 50% Off Shop Now Mobile Accessories Min. 50% Off Shop Now Wired Headphones Min. 50% Off Shop Now Pen Drives Min. 50% Off Shop Now Top Stories : Brand Directory MOST SEARCHED IN Gaming Products   : COD BLACK OPS 3 CALL OF DUTY GHOSTS DELL INSPIRON 15 5000 MANKIND FIFA15 GTA IV GRAND THEFT AUTO HALO 4 INFAMOUS SECOND SON MAX PAYNE MEDAL OF HONOR WARFIGHTER XBOX ONE PRICE NARUTO ULTIMATE NINJA STORM 4 NFS HOT PURSUIT PLAYSTATION 2 PS2 PRICE IN INDIA SONY PS3 PLAYSTATION 4 PSP PRICE THE LAST OF US STRATEGY WAR GAMES WATCH DOGS 2 THE WITCHER 2 ASSASSINS OF KINGS WWE 12 PS2 PRICE IN INDIA ABOUT Contact Us About Us Careers Flipkart Stories Press Flipkart Wholesale Corporate Information HELP Payments Shipping Cancellation & Returns FAQ Report Infringement POLICY Return Policy Terms Of Use Security Privacy Sitemap EPR Compliance SOCIAL Facebook Twitter YouTube Mail Us: Flipkart Internet Private Limited,  \n",
      "  Buildings Alyssa, Begonia &  \n",
      "  Clove Embassy Tech Village,  \n",
      "  Outer Ring Road, Devarabeesanahalli Village,  \n",
      "  Bengaluru, 560103,  \n",
      "  Karnataka, India \n",
      " Registered Office Address: Flipkart Internet Private Limited,  \n",
      "  Buildings Alyssa, Begonia &  \n",
      "  Clove Embassy Tech Village,  \n",
      "  Outer Ring Road, Devarabeesanahalli Village,  \n",
      "  Bengaluru, 560103,  \n",
      "  Karnataka, India  \n",
      "  CIN : U51109KA2012PTC066107  \n",
      "  Telephone:  044-45614700 \n",
      " Become a Seller Advertise Gift Cards Help Center © 2007-   2022     Flipkart.com Back to top       \n",
      "   \n",
      " \n",
      "   \n"
     ]
    }
   ],
   "source": [
    "for t in text:\n",
    "    if t.parent.name not in blacklist:\n",
    "        output += '{} '.format(t)\n",
    "\n",
    "print(output)\n"
   ]
  },
  {
   "cell_type": "code",
   "execution_count": 20,
   "metadata": {},
   "outputs": [],
   "source": [
    "question_set = {\n",
    "    'question': \"what is the battery capacity?\",\n",
    "    'context':output\n",
    "}"
   ]
  },
  {
   "cell_type": "code",
   "execution_count": 21,
   "metadata": {},
   "outputs": [
    {
     "data": {
      "text/plain": [
       "{'score': 0.34065213799476624, 'start': 8507, 'end': 8510, 'answer': '4.2'}"
      ]
     },
     "execution_count": 21,
     "metadata": {},
     "output_type": "execute_result"
    }
   ],
   "source": [
    "nlp(question_set)"
   ]
  }
 ],
 "metadata": {
  "kernelspec": {
   "display_name": "Python 3.10.0 64-bit",
   "language": "python",
   "name": "python3"
  },
  "language_info": {
   "codemirror_mode": {
    "name": "ipython",
    "version": 3
   },
   "file_extension": ".py",
   "mimetype": "text/x-python",
   "name": "python",
   "nbconvert_exporter": "python",
   "pygments_lexer": "ipython3",
   "version": "3.10.0"
  },
  "orig_nbformat": 4,
  "vscode": {
   "interpreter": {
    "hash": "e7d4d1fdefab968d87dae697830712be305784682ed311731942beb8000e292d"
   }
  }
 },
 "nbformat": 4,
 "nbformat_minor": 2
}
